{
 "cells": [
  {
   "cell_type": "markdown",
   "metadata": {},
   "source": [
    "# Religious Text Classifier\n",
    "### Andrew Thomas\n",
    "\n",
    "For a couple years now, I have been fascinated with classification problems. Computers' ability to pick up on more patterns than a human can has a lot of potential for better understanding our world. Therefore I would like to propose a classification problem. As one that I think could be fun and interesting, I want to feed a neural network a host of religious writings (sacred texts, commentaries, blog posts, etc) labled by their associated religion. The hope being that given another peice of text, the model could predict the associated religion.\n",
    "\n",
    "Beyond religious buzzwords (which could get filtered out based on what information I want to care about), it would be interesting to see if associated religion has an affect on language use to the point where a machine could recognize the religion being talked about.\n",
    "\n",
    "I plan to use Keras and Word2Vec to forumulate and solve the problem. Python scripts can be used to help create the data set (which I am planning on just being text files either grabbed from sources or copy and pasted). "
   ]
  },
  {
   "cell_type": "markdown",
   "metadata": {},
   "source": [
    "### Vision"
   ]
  },
  {
   "cell_type": "markdown",
   "metadata": {},
   "source": [
    "Classification problems have been a mainstay in AI for a while, but one classification problem that I think would be interesting in the religious affiliation of a peice of writing. I will admit, this mostly just sounds like a fun classification problem for me, but I think there could be some useful applications. For example, eastern mysticism is having more and more influence on western society and it has a tendency to slip into Christian religious beliefs. If able to accurate predict religious affiliation, it might be helpful to help weed out bad theology. "
   ]
  },
  {
   "cell_type": "markdown",
   "metadata": {},
   "source": [
    "### Background"
   ]
  },
  {
   "cell_type": "markdown",
   "metadata": {},
   "source": [
    "Currently the plan is just to use Python with Keras. However, I may encounter other libraries or dataset collection tools that may be implemented."
   ]
  },
  {
   "cell_type": "markdown",
   "metadata": {},
   "source": [
    "### Implementation "
   ]
  },
  {
   "cell_type": "markdown",
   "metadata": {},
   "source": [
    "Will likely end up with a DNN that uses a bag of words approach, but I want to do more research before diving in."
   ]
  },
  {
   "cell_type": "markdown",
   "metadata": {},
   "source": [
    "### Results"
   ]
  },
  {
   "cell_type": "markdown",
   "metadata": {},
   "source": [
    "N/A"
   ]
  },
  {
   "cell_type": "markdown",
   "metadata": {},
   "source": [
    "### Implication "
   ]
  },
  {
   "cell_type": "markdown",
   "metadata": {},
   "source": [
    "Could be used for helpful religious classification. Could be used for targeting religious groups. Let me think about it some more."
   ]
  }
 ],
 "metadata": {
  "kernelspec": {
   "display_name": "Python 3",
   "language": "python",
   "name": "python3"
  },
  "language_info": {
   "codemirror_mode": {
    "name": "ipython",
    "version": 3
   },
   "file_extension": ".py",
   "mimetype": "text/x-python",
   "name": "python",
   "nbconvert_exporter": "python",
   "pygments_lexer": "ipython3",
   "version": "3.5.2"
  }
 },
 "nbformat": 4,
 "nbformat_minor": 2
}
