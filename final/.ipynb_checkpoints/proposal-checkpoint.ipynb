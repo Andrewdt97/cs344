{
 "cells": [
  {
   "cell_type": "markdown",
   "metadata": {},
   "source": [
    "# Religious Text Classifier\n",
    "### Andrew Thomas\n",
    "\n",
    "For a couple years now, I have been fascinated with classification problems. Computers' ability to pick up on more patterns than a human can has a lot of potential for better understanding our world. Therefore I would like to propose a classification problem. As one that I think could be fun and interesting, I want to feed a neural network a host of religious writings (sacred texts, commentaries, blog posts, etc) labled by their associated religion. The hope being that given another peice of text, the model could predict the associated religion.\n",
    "\n",
    "Beyond religious buzzwords (which could get filtered out based on what information I want to care about), it would be interesting to see if associated religion has an affect on language use to the point where a machine could recognize the religion being talked about.\n",
    "\n",
    "I plan to use Keras and Word2Vec to forumulate and solve the problem. Python scripts can be used to help create the data set (which I am planning on just being text files either grabbed from sources or copy and pasted). "
   ]
  }
 ],
 "metadata": {
  "kernelspec": {
   "display_name": "Python 3",
   "language": "python",
   "name": "python3"
  },
  "language_info": {
   "codemirror_mode": {
    "name": "ipython",
    "version": 3
   },
   "file_extension": ".py",
   "mimetype": "text/x-python",
   "name": "python",
   "nbconvert_exporter": "python",
   "pygments_lexer": "ipython3",
   "version": "3.5.2"
  }
 },
 "nbformat": 4,
 "nbformat_minor": 2
}
