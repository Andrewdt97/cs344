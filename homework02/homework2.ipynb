{
 "cells": [
  {
   "cell_type": "heading",
   "metadata": {
    "collapsed": true
   },
   "level": 1,
   "source": [
    "Excercise 1"
   ]
  },
  {
   "cell_type": "code",
   "execution_count": null,
   "metadata": {},
   "outputs": [],
   "source": [
    "'''Andrew Thoams\n",
    "CS344\n",
    "Homework02\n",
    "'''\n",
    "\n",
    "\n",
    "def createCorpHash(corpus):\n",
    "    hash = {}\n",
    "    # For each example\n",
    "    for ex in corpus:\n",
    "        # For each token\n",
    "        for token in ex:\n",
    "            # Add it to the dictionary appropriately\n",
    "            token = token.lower()\n",
    "            if token in hash:\n",
    "                hash[token] += 1\n",
    "            else:\n",
    "                hash[token] = 1\n",
    "    return hash\n",
    "\n",
    "\n",
    "def createProbHash(goodHash, badHash):\n",
    "    propabilityHash = {}\n",
    "\n",
    "    # Add all of the goodHash values\n",
    "    for token in goodHash:\n",
    "        propabilityHash[token] = [goodHash[token], 0]\n",
    "\n",
    "    #Add all of the badHash values\n",
    "    for token in badHash:\n",
    "        if token in propabilityHash:\n",
    "            propabilityHash[token][1] = badHash[token]\n",
    "        else:\n",
    "            propabilityHash[token] = [0, badHash[token]]\n",
    "\n",
    "    return propabilityHash\n",
    "\n",
    "def getProbability(token, propabilityHash, nGood, nBad):\n",
    "    good = propabilityHash[token][0] * 2\n",
    "    bad = propabilityHash[token][1]\n",
    "\n",
    "    if good + bad > 1:\n",
    "        return max(0.01, min(0.99, min(1.0, bad/nBad) / (min(1.0, good/nGood) + min(1.0, bad/nBad))))\n",
    "    else:\n",
    "        return 0\n",
    "\n",
    "def checkSpam(message):\n",
    "    goodHash = createCorpHash([[\"do\", \"i\", \"like\", \"green\", \"eggs\", \"and\", \"ham\"], [\"i\", \"do\"]])\n",
    "    nGood = sum(goodHash.values())\n",
    "\n",
    "    badHash = createCorpHash([[\"I\", \"am\", \"spam\", \"spam\", \"I\", \"am\"], [\"I\", \"do\", \"not\", \"like\", \"that\", \"spamiam\"]])\n",
    "    nBad = sum(badHash.values())\n",
    "\n",
    "    probHash = createProbHash(goodHash, badHash)\n",
    "\n",
    "    prod = 1\n",
    "    inverseProd = 1\n",
    "\n",
    "    # For each token in the message, produce the probability of the message being spam\n",
    "    messageArr = message.split()\n",
    "    for token in messageArr:\n",
    "        token = token.lower()\n",
    "        if token in probHash:\n",
    "            prob = getProbability(token, probHash, nGood, nBad)\n",
    "            if prob > 0:\n",
    "                prod *= prob\n",
    "                inverseProd *= (1 - prob)\n",
    "        else:\n",
    "            prod *= 0.4\n",
    "            inverseProd *= 0.6\n",
    "    return prod / ( prod + inverseProd)\n",
    "\n",
    "if __name__ == \"__main__\":\n",
    "    while True:\n",
    "        print(\"Input a string to check for spam. Type 'q' to exit:\")\n",
    "        message = input()\n",
    "        if message == \"q\":\n",
    "            break\n",
    "        spamCheck = checkSpam(message)\n",
    "        print(\"The chance of this message being spam is: \" + str(spamCheck))\n",
    "        if spamCheck >= 0.9:\n",
    "            print(\"We figure this message is spam\\n\")\n",
    "        else:\n",
    "            print(\"We figure this is not spam.\\n\")\n",
    "    print(\"Goodbye!\")"
   ]
  },
  {
   "cell_type": "heading",
   "metadata": {},
   "level": 1,
   "source": [
    "Excercise 2"
   ]
  },
  {
   "cell_type": "code",
   "execution_count": null,
   "metadata": {},
   "outputs": [],
   "source": [
    "from probability import BayesNet, enumeration_ask\n",
    "\n",
    "T, F = True, False\n",
    "\n",
    "grass = BayesNet([\n",
    "    ('Cloudy', '', 0.5),\n",
    "    ('Sprinkler', 'Cloudy', {T: 0.10, F: 0.50}),\n",
    "    ('Rain', 'Cloudy', {T: 0.80, F: 0.20}),\n",
    "    ('WetGrass', 'Sprinkler Cloudy', {(T, T): 0.99, (T, F): 0.90, (F, T): 0.90, (F, F): 0.00})\n",
    "    ])\n",
    "# i.\n",
    "print( enumeration_ask('Cloudy', dict(), grass).show_approx())\n",
    "# ii.\n",
    "print( enumeration_ask('Sprinkler', dict(Cloudy=T), grass).show_approx())\n",
    "# iii.\n",
    "print( enumeration_ask('Cloudy', dict(Sprinkler=T, Rain=F), grass).show_approx())\n",
    "# iv.\n",
    "print( enumeration_ask('WetGrass', dict(Cloudy=T, Sprinkler=T, Rain=T), grass).show_approx())\n",
    "# v.\n",
    "print( enumeration_ask('Cloudy', dict(WetGrass=F), grass).show_approx())"
   ]
  },
  {
   "cell_type": "heading",
   "metadata": {},
   "level": 6,
   "source": [
    "b. We have four events each with two possible outcomes. This results in 2^4 or 16 independant values."
   ]
  },
  {
   "cell_type": "heading",
   "metadata": {},
   "level": 6,
   "source": [
    "c. There are 9 probabilities given for our Bayesian net: one for cloud, two each for sprinkler and rain, and four for WetGrass"
   ]
  },
  {
   "cell_type": "heading",
   "metadata": {},
   "level": 6,
   "source": [
    "d. i. P(Cloudy) is given in the new as 0.5\n",
    "ii. P(Sprinkler | cloudy) is given in the net as 0.10\n",
    "iii. P(Cloudy | sprinkler ^ -rain)\n",
    "\t= alpha <P(sprinkler | Cloudy) * P(-Rain | Cloudy) * P(Cloudy), P(sprinkler | -Cloudy) * P(-Rain | -Cloudy) * P(-Cloudy)>\n",
    "\t= alpha <0.1 * .2 * 0.5, 0.5 * 0.8 * 0.5>\n",
    "\t= alpha <0.01, 0.2>\n",
    "\t= T: 0.0476, F: 0.952\n",
    "iv. P(WetGrass | cloudy ^ rain ^ sprinker) is just P(WetGrass | cloudy ^ rain) which is given as 0.99\n",
    "v. P(Cloudy | -WetGrass)\n",
    "\tNote, because the chance of cloudy and -cloudy are the same, they are dropped from the arithmatic because they would be factored out)\n",
    "\t= alpha <P(-WetGrass | Cloudy), P(-WetGrass | -Cloudy)>\n",
    "\t= alpha\n",
    "\t\t<P(-WG | S ^ R ^ C) + P(-WG | S ^ -R ^ C) + P(-WG | -S ^ R ^ C) + P(-WG | -S ^ -R ^ C),\n",
    "\t\tP(-WG | S ^ R ^ -C) + P(-WG | S ^ -R ^ -C) + P(-WG | -S ^ R ^ -C) + P(-WG | -S ^ -R ^ -C)>\n",
    "\t= alpha\n",
    "\t\t< (0.01 * 0.1 * 0.8) + (0.1 * 0.1 * .2) + (0.1 * 0.9 * 0.8) + (1 * .9 * 0.2),\n",
    "\t\t< (0.01 * 0.5 * 0.2) + (0.1 * 0.5 * 0.8) + (0.1 * 0.5 * 0.2) + (1 * 0.5 * 0.8)>\n",
    "\t= alpha\n",
    "\t\t< 0.0008 + 0.002 + 0.072 + 0.18,\n",
    "\t\t0.001 + 0.04 + 0.01 + 0.4>\n",
    "\t= alpha < .2548, 0.451>\n",
    "\t= T: 0.142, F: 0.858"
   ]
  }
 ],
 "metadata": {
  "kernelspec": {
   "display_name": "Python 2",
   "language": "python",
   "name": "python2"
  },
  "language_info": {
   "codemirror_mode": {
    "name": "ipython",
    "version": 2
   },
   "file_extension": ".py",
   "mimetype": "text/x-python",
   "name": "python",
   "nbconvert_exporter": "python",
   "pygments_lexer": "ipython2",
   "version": "2.7.6"
  }
 },
 "nbformat": 4,
 "nbformat_minor": 0
}
